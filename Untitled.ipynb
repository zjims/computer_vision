{
 "cells": [
  {
   "cell_type": "code",
   "execution_count": 17,
   "id": "2186feb9-ca40-40ad-b524-27369c4366d6",
   "metadata": {
    "tags": []
   },
   "outputs": [],
   "source": [
    "import tensorflow as tf   # Import the TensorFlow library, which provides tools for deep learning.\n",
    "import pandas as pd  # Import the pandas library, used for data manipulation and analysis.\n",
    "from sklearn.model_selection import train_test_split\n",
    "\n",
    "# Used for data management\n",
    "import requests\n",
    "import os\n",
    "import time\n",
    "import tarfile\n",
    "\n",
    "import matplotlib.pyplot as plt  # Import the matplotlib library for plotting and visualization.\n",
    "# This line allows for the display of plots directly within the Jupyter notebook interface.\n",
    "%matplotlib inline  \n",
    " \n",
    "# Import Keras libraries\n",
    "from tensorflow.keras.preprocessing.image import ImageDataGenerator  # Import the ImageDataGenerator class from Keras module in TensorFlow.\n",
    "from tensorflow.keras.models import Sequential  # Import the Sequential model: a linear stack of layers from Keras module in TensorFlow.\n",
    "from tensorflow.keras.layers import Dense  # Import the Dense layer: a fully connected neural network layer from Keras module in TensorFlow.\n",
    "from tensorflow.keras.layers import Flatten  # Import the Flatten layer: used to convert input data into a 1D array from Keras module in TensorFlow.\n",
    "from tensorflow.keras.losses import SparseCategoricalCrossentropy  # Import the SparseCategoricalCrossentropy loss function from Keras module in TensorFlow.\n",
    "from tensorflow.keras.utils import to_categorical\n",
    "from tensorflow.keras import layers \n",
    "from tensorflow.keras import losses\n",
    "from sklearn.metrics import confusion_matrix \n",
    "import numpy as np \n",
    "\n",
    "# Import helper functions--most of these were in the cells of the DLF_03_bees_vs_wasps.ipynb notebook.\n",
    "# We moved them out of the notebook to enhace readability. \n",
    "import helpers_01\n",
    "\n",
    "# Load the TensorBoard notebook extension\n",
    "%load_ext tensorboard"
   ]
  },
  {
   "cell_type": "code",
   "execution_count": 14,
   "id": "8b858776-17af-46bb-9196-85390f41876c",
   "metadata": {
    "tags": []
   },
   "outputs": [
    {
     "name": "stdout",
     "output_type": "stream",
     "text": [
      "Found data at /blue/practicum-ai/share/data/bee_vs_wasp.\n"
     ]
    }
   ],
   "source": [
    "# Chech for the data.\n",
    "data_path = helpers_01.manage_data() "
   ]
  },
  {
   "cell_type": "code",
   "execution_count": 15,
   "id": "d94e0ac9-6aee-4961-9354-aa147d924d01",
   "metadata": {
    "tags": []
   },
   "outputs": [
    {
     "name": "stdout",
     "output_type": "stream",
     "text": [
      "wasp: 4,943 images, or 43.3% of total images.\n",
      "bee: 3,184 images, or 27.9% of total images.\n",
      "other_insect: 2,439 images, or 21.4% of total images.\n",
      "other_noinsect: 856 images, or 7.5% of total images.\n",
      "************************************\n"
     ]
    },
    {
     "data": {
      "image/png": "[encoded data removed]",
      "text/plain": [
       "<Figure size 640x480 with 1 Axes>"
      ]
     },
     "metadata": {},
     "output_type": "display_data"
    }
   ],
   "source": [
    "# Make a histogram of the number of images in each class\n",
    "def make_hist(data_path):\n",
    "    # Get the class names\n",
    "    class_names = os.listdir(data_path)\n",
    "\n",
    "    # Initialize an empty list to store the number of images in each class\n",
    "    num_images = []\n",
    "\n",
    "    # Loop through each class\n",
    "    for class_name in class_names:\n",
    "        # Get the list of images in the class\n",
    "        images = os.listdir(os.path.join(data_path, class_name))\n",
    "        # Append the number of images in the class to the list\n",
    "        num_images.append(len(images))\n",
    "\n",
    "    # Put the number of images in each class in descending order\n",
    "    num_images, class_names = zip(*sorted(zip(num_images, class_names), reverse=True))\n",
    "\n",
    "    total_images = sum(num_images)\n",
    "    \n",
    "    # Print the number of images in each class\n",
    "    for i in range(len(class_names)):\n",
    "        percentage = (num_images[i] / total_images) * 100\n",
    "        print(f'{class_names[i]}: {num_images[i]:,} images, or {percentage:.1f}% of total images.')\n",
    "\n",
    "    print(\"************************************\")       \n",
    "        \n",
    "    # Create a histogram of the number of images in each class\n",
    "    plt.bar(class_names, num_images)\n",
    "    plt.xlabel('Class')\n",
    "    plt.ylabel('Number of Images')\n",
    "    plt.title('Number of Images in Each Class')\n",
    "    plt.show()\n",
    "\n",
    "make_hist(data_path)"
   ]
  },
  {
   "cell_type": "code",
   "execution_count": 34,
   "id": "ddc145a5-24a3-489c-abdd-46f4cd1c8406",
   "metadata": {
    "tags": []
   },
   "outputs": [
    {
     "name": "stdout",
     "output_type": "stream",
     "text": [
      "***********************************************************************\n",
      "Load data:\n",
      "  - Loading the dataset from: /blue/practicum-ai/share/data/bee_vs_wasp.\n",
      "  - Using a batch size of: 32.\n",
      "  - Resizing input images to: (80, 80, 3).\n",
      "***********************************************************************\n",
      "Number of wasp images: 4943:,  or 43.28%\n",
      "Number of other_insect images: 2439:,  or 21.35%\n",
      "Number of bee images: 3184:,  or 27.88%\n",
      "Number of other_noinsect images: 856:,  or 7.49%\n",
      "Found 9137 validated image filenames belonging to 4 classes.\n",
      "Found 2284 validated image filenames belonging to 4 classes.\n",
      "Number of wasp images: 3954 or 43.27%\n",
      "Number of other_insect images: 1951 or 21.35%\n",
      "Number of bee images: 2547 or 27.88%\n",
      "Number of other_noinsect images: 685 or 7.50%\n"
     ]
    },
    {
     "name": "stderr",
     "output_type": "stream",
     "text": [
      "/apps/tensorflow/2.15/lib/python3.11/site-packages/keras/src/preprocessing/image.py:1137: UserWarning: Found 1 invalid image filename(s) in x_col=\"image\". These filename(s) will be ignored.\n",
      "  warnings.warn(\n"
     ]
    }
   ],
   "source": [
    "# Create a function that loads data for an object detection model\n",
    "def prep_display_data(path, batch_size=32, shape=(80,80,3), show_pictures=False, stratify=True, normalize=True, ):\n",
    "    '''Takes a path, batch size, target shape for images and optionally whether to show sample images.\n",
    "       Returns training and testing datasets\n",
    "    '''\n",
    "    print(\"***********************************************************************\")\n",
    "    print(\"Load data:\")\n",
    "    print(f\"  - Loading the dataset from: {path}.\")\n",
    "    print(f\"  - Using a batch size of: {batch_size}.\")\n",
    "    print(f\"  - Resizing input images to: {shape}.\")\n",
    "    print(\"***********************************************************************\")\n",
    "    \n",
    "    batch_size = batch_size  # Define the batch size\n",
    "    \n",
    "    # Define the image size using the 1st 2 elements of the shape parameter\n",
    "    # We don't need the number of channels here, just the dimensions to use\n",
    "    image_size = shape[:2]\n",
    "\n",
    "    # Get the class names\n",
    "    class_names = os.listdir(path)\n",
    "\n",
    "    images = [] # Initialize the images list\n",
    "    labels = [] # Initialize the labels list\n",
    "\n",
    "    # Get the images and labels to use for training and validation\n",
    "    for class_name in class_names:\n",
    "        class_path = os.path.join(path, class_name)\n",
    "        for image_name in os.listdir(class_path):\n",
    "            image_path = os.path.join(class_path, image_name)\n",
    "            images.append(image_path)\n",
    "            labels.append(class_name)\n",
    "\n",
    "    # Print the number of number of images per class\n",
    "    for class_name in class_names:\n",
    "        print(f'Number of {class_name} images: {labels.count(class_name)}:,  or {labels.count(class_name)/len(labels)*100:.2f}%')\n",
    "    \n",
    "    if stratify: # Use sklearn's train_test_split function to split the data into training and testing sets\n",
    "        # Split the data in a stratified manner\n",
    "        X_train, X_val, y_train, y_val = train_test_split(images, labels, test_size=0.2, stratify=labels)\n",
    "    else:\n",
    "        # Split the data randomly\n",
    "        X_train, X_val,  y_train, y_val= train_test_split(images, labels, test_size=0.2)\n",
    "\n",
    "    # Build the DataFrames for the training and validation sets\n",
    "    train_df = pd.DataFrame(list(zip(X_train, y_train)), columns=['image', 'class'])\n",
    "    val_df = pd.DataFrame(list(zip(X_val, y_val)), columns=['image', 'class'])\n",
    "    \n",
    "    if normalize:\n",
    "        # Define the ImageDataGenerator class with rescaling for each channel\n",
    "        train_datagen = ImageDataGenerator(rescale=1./255)\n",
    "        val_datagen = ImageDataGenerator(rescale=1./255)\n",
    "    else:\n",
    "        train_datagen = ImageDataGenerator()\n",
    "        val_datagen = ImageDataGenerator()\n",
    "    \n",
    "    # Define the training and validation data generators\n",
    "    train_generator = train_datagen.flow_from_dataframe(\n",
    "        dataframe=train_df,\n",
    "        x_col='image',\n",
    "        y_col='class',\n",
    "        target_size=image_size,\n",
    "        batch_size=batch_size,\n",
    "        class_mode='categorical',\n",
    "        shuffle=True)\n",
    "    \n",
    "    val_generator = val_datagen.flow_from_dataframe(\n",
    "        dataframe=val_df,\n",
    "        x_col='image',\n",
    "        y_col='class',\n",
    "        target_size=image_size,\n",
    "        batch_size=batch_size,\n",
    "        class_mode='categorical',\n",
    "        shuffle=True)\n",
    "\n",
    "\n",
    "    if show_pictures:\n",
    "        # Get the class names\n",
    "        class_names = list(train_generator.class_indices.keys())\n",
    "        print(class_names)\n",
    "\n",
    "        # Display up to 3 images from each of the categories\n",
    "        for i, class_name in enumerate(class_names):\n",
    "            plt.figure(figsize=(10, 10))\n",
    "            \n",
    "            # Get a single batch to use for display\n",
    "            images, labels = train_generator.next()\n",
    "\n",
    "            # Un-normalize the images for display if normalization was used\n",
    "            if normalize:\n",
    "                images = images * 255\n",
    "\n",
    "            # Filter images of the current class\n",
    "            class_images = images[labels[:, i] == 1]\n",
    "                \n",
    "            # Number of images to show. We don't want to show more than 3 images.\n",
    "            num_images = min(len(class_images), 3)\n",
    "                \n",
    "            for j in range(num_images):\n",
    "                ax = plt.subplot(1, num_images, j + 1)\n",
    "                plt.imshow(class_images[j].astype(\"uint8\"))\n",
    "                plt.title(class_name)\n",
    "                plt.axis(\"off\")\n",
    "            plt.show()\n",
    "            \n",
    "    for class_name  in class_names:\n",
    "        count = y_train.count(class_name)\n",
    "        print(f'Number of {class_name} images: {count} or {count/len(y_train)*100:.2f}%')\n",
    "\n",
    "    return X_train, X_val, train_generator, val_generator\n",
    "\n",
    "X_train, X_val, train_generator, val_generator = prep_display_data(data_path, batch_size=32, shape=(80,80,3), show_pictures=False, stratify=True, normalize=True)\n"
   ]
  },
  {
   "cell_type": "code",
   "execution_count": null,
   "id": "18c027bf-2e3d-4640-a3fe-21476e6db737",
   "metadata": {},
   "outputs": [],
   "source": []
  },
  {
   "cell_type": "code",
   "execution_count": null,
   "id": "d15e6829-6ae7-48e9-80ed-0c3297ec41ef",
   "metadata": {},
   "outputs": [],
   "source": []
  }
 ],
 "metadata": {
  "kernelspec": {
   "display_name": "Tensorflow-2.15",
   "language": "python",
   "name": "tensorflow-2.15"
  },
  "language_info": {
   "codemirror_mode": {
    "name": "ipython",
    "version": 3
   },
   "file_extension": ".py",
   "mimetype": "text/x-python",
   "name": "python",
   "nbconvert_exporter": "python",
   "pygments_lexer": "ipython3",
   "version": "3.11.5"
  }
 },
 "nbformat": 4,
 "nbformat_minor": 5
}
